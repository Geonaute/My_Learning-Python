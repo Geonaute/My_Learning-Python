{
 "cells": [
  {
   "cell_type": "markdown",
   "metadata": {},
   "source": [
    "# __Plotly__"
   ]
  },
  {
   "cell_type": "markdown",
   "metadata": {},
   "source": [
    "## Pie Chart"
   ]
  },
  {
   "cell_type": "markdown",
   "metadata": {},
   "source": [
    "### 1. Basic"
   ]
  },
  {
   "cell_type": "code",
   "execution_count": 4,
   "metadata": {},
   "outputs": [],
   "source": [
    "import pandas as pd\n",
    "import plotly\n",
    "from plotly.graph_objs import layout, pie"
   ]
  },
  {
   "cell_type": "markdown",
   "metadata": {},
   "source": [
    "__Problem Statement:__ <br/>\n",
    "* Draw a Pie Chart b/w labels (A, B, C) and values (22, 17, 6)"
   ]
  },
  {
   "cell_type": "code",
   "execution_count": 8,
   "metadata": {},
   "outputs": [],
   "source": [
    "# Read data\n",
    "stores = pd.read_csv('./data/stores.csv')"
   ]
  },
  {
   "cell_type": "code",
   "execution_count": 79,
   "metadata": {},
   "outputs": [
    {
     "data": {
      "text/html": [
       "<div>\n",
       "<style scoped>\n",
       "    .dataframe tbody tr th:only-of-type {\n",
       "        vertical-align: middle;\n",
       "    }\n",
       "\n",
       "    .dataframe tbody tr th {\n",
       "        vertical-align: top;\n",
       "    }\n",
       "\n",
       "    .dataframe thead th {\n",
       "        text-align: right;\n",
       "    }\n",
       "</style>\n",
       "<table border=\"1\" class=\"dataframe\">\n",
       "  <thead>\n",
       "    <tr style=\"text-align: right;\">\n",
       "      <th></th>\n",
       "      <th>Store</th>\n",
       "      <th>Type</th>\n",
       "      <th>Size</th>\n",
       "    </tr>\n",
       "  </thead>\n",
       "  <tbody>\n",
       "    <tr>\n",
       "      <th>0</th>\n",
       "      <td>1</td>\n",
       "      <td>A</td>\n",
       "      <td>151315</td>\n",
       "    </tr>\n",
       "    <tr>\n",
       "      <th>1</th>\n",
       "      <td>2</td>\n",
       "      <td>A</td>\n",
       "      <td>202307</td>\n",
       "    </tr>\n",
       "    <tr>\n",
       "      <th>2</th>\n",
       "      <td>3</td>\n",
       "      <td>B</td>\n",
       "      <td>37392</td>\n",
       "    </tr>\n",
       "    <tr>\n",
       "      <th>3</th>\n",
       "      <td>4</td>\n",
       "      <td>A</td>\n",
       "      <td>205863</td>\n",
       "    </tr>\n",
       "    <tr>\n",
       "      <th>4</th>\n",
       "      <td>5</td>\n",
       "      <td>B</td>\n",
       "      <td>34875</td>\n",
       "    </tr>\n",
       "  </tbody>\n",
       "</table>\n",
       "</div>"
      ],
      "text/plain": [
       "   Store Type    Size\n",
       "0      1    A  151315\n",
       "1      2    A  202307\n",
       "2      3    B   37392\n",
       "3      4    A  205863\n",
       "4      5    B   34875"
      ]
     },
     "execution_count": 79,
     "metadata": {},
     "output_type": "execute_result"
    }
   ],
   "source": [
    "stores.head()"
   ]
  },
  {
   "cell_type": "code",
   "execution_count": 93,
   "metadata": {},
   "outputs": [],
   "source": [
    "types = stores['Type'].value_counts()\n",
    "labels = types.index\n",
    "values = types"
   ]
  },
  {
   "cell_type": "code",
   "execution_count": 94,
   "metadata": {},
   "outputs": [],
   "source": [
    "labels_store = labels.tolist()"
   ]
  },
  {
   "cell_type": "code",
   "execution_count": 95,
   "metadata": {},
   "outputs": [],
   "source": [
    "values_store = values"
   ]
  },
  {
   "cell_type": "code",
   "execution_count": 102,
   "metadata": {},
   "outputs": [],
   "source": [
    "trace_store = Pie(values= values_store,\n",
    "        labels= labels_store,\n",
    "        name= \"ABC Store\",\n",
    "        hoverinfo= \"label+percent+name+value\",\n",
    "        hole= 0.4)"
   ]
  },
  {
   "cell_type": "code",
   "execution_count": 110,
   "metadata": {},
   "outputs": [],
   "source": [
    "# Layout for both the pie charts in {row:1, col:2}\n",
    "layout_store = {\n",
    "    \"title\": \"Store data of A, B, C\",\n",
    "    \"annotations\": [\n",
    "        {\n",
    "            \"font\": {\"size\": 20},\n",
    "            \"showarrow\": False,\n",
    "            \"text\": \"ABC Store\",\n",
    "            \"x\": 0.5,   # horizontally center\n",
    "            \"y\": 0.5    # vertically center\n",
    "        }\n",
    "    ]\n",
    "}"
   ]
  },
  {
   "cell_type": "code",
   "execution_count": 111,
   "metadata": {},
   "outputs": [
    {
     "data": {
      "text/plain": [
       "'file://F:\\\\Coding\\\\Github_repos\\\\My_Learning-Python\\\\libs\\\\Plotly\\\\temp-plot.html'"
      ]
     },
     "execution_count": 111,
     "metadata": {},
     "output_type": "execute_result"
    }
   ],
   "source": [
    "# Pie Chart Plot\n",
    "# Opens a plot (as html) in a separate Chrome tab.\n",
    "plotly.offline.plot({\n",
    "    \"data\":[trace_store],\n",
    "    \"layout\": layout_store\n",
    "})"
   ]
  },
  {
   "cell_type": "markdown",
   "metadata": {},
   "source": [
    "### 2. Donut-shaped"
   ]
  },
  {
   "cell_type": "markdown",
   "metadata": {},
   "source": [
    "#### __Example 1__"
   ]
  },
  {
   "cell_type": "code",
   "execution_count": 2,
   "metadata": {},
   "outputs": [],
   "source": [
    "import pandas as pd\n",
    "import plotly\n",
    "from plotly.graph_objs import Layout, Pie"
   ]
  },
  {
   "cell_type": "markdown",
   "metadata": {},
   "source": [
    "__Problem Statement:__ <br/>\n",
    "* Draw a Pie Chart b/w labels (US, China,....) and values (GHG & CO2). \n",
    "* Basically, 2 pie charts in shape: {row:1, col:2}"
   ]
  },
  {
   "cell_type": "code",
   "execution_count": 3,
   "metadata": {},
   "outputs": [],
   "source": [
    "# Read data\n",
    "emission = pd.read_csv('./data/emission.csv')"
   ]
  },
  {
   "cell_type": "code",
   "execution_count": 4,
   "metadata": {},
   "outputs": [
    {
     "data": {
      "text/html": [
       "<div>\n",
       "<style scoped>\n",
       "    .dataframe tbody tr th:only-of-type {\n",
       "        vertical-align: middle;\n",
       "    }\n",
       "\n",
       "    .dataframe tbody tr th {\n",
       "        vertical-align: top;\n",
       "    }\n",
       "\n",
       "    .dataframe thead th {\n",
       "        text-align: right;\n",
       "    }\n",
       "</style>\n",
       "<table border=\"1\" class=\"dataframe\">\n",
       "  <thead>\n",
       "    <tr style=\"text-align: right;\">\n",
       "      <th></th>\n",
       "      <th>Countries</th>\n",
       "      <th>GHG</th>\n",
       "      <th>CO2</th>\n",
       "    </tr>\n",
       "  </thead>\n",
       "  <tbody>\n",
       "    <tr>\n",
       "      <th>0</th>\n",
       "      <td>US</td>\n",
       "      <td>16</td>\n",
       "      <td>27</td>\n",
       "    </tr>\n",
       "    <tr>\n",
       "      <th>1</th>\n",
       "      <td>China</td>\n",
       "      <td>15</td>\n",
       "      <td>11</td>\n",
       "    </tr>\n",
       "    <tr>\n",
       "      <th>2</th>\n",
       "      <td>European Union</td>\n",
       "      <td>12</td>\n",
       "      <td>25</td>\n",
       "    </tr>\n",
       "    <tr>\n",
       "      <th>3</th>\n",
       "      <td>Russian Federation</td>\n",
       "      <td>6</td>\n",
       "      <td>8</td>\n",
       "    </tr>\n",
       "    <tr>\n",
       "      <th>4</th>\n",
       "      <td>Brazil</td>\n",
       "      <td>5</td>\n",
       "      <td>1</td>\n",
       "    </tr>\n",
       "    <tr>\n",
       "      <th>5</th>\n",
       "      <td>India</td>\n",
       "      <td>4</td>\n",
       "      <td>3</td>\n",
       "    </tr>\n",
       "    <tr>\n",
       "      <th>6</th>\n",
       "      <td>Rest of World</td>\n",
       "      <td>42</td>\n",
       "      <td>25</td>\n",
       "    </tr>\n",
       "  </tbody>\n",
       "</table>\n",
       "</div>"
      ],
      "text/plain": [
       "            Countries  GHG  CO2\n",
       "0                  US   16   27\n",
       "1               China   15   11\n",
       "2      European Union   12   25\n",
       "3  Russian Federation    6    8\n",
       "4              Brazil    5    1\n",
       "5               India    4    3\n",
       "6       Rest of World   42   25"
      ]
     },
     "execution_count": 4,
     "metadata": {},
     "output_type": "execute_result"
    }
   ],
   "source": [
    "emission"
   ]
  },
  {
   "cell_type": "code",
   "execution_count": 5,
   "metadata": {},
   "outputs": [],
   "source": [
    "emission_countries_list = emission['Countries'].tolist()    # as list or array\n",
    "emission_ghg_list = emission['GHG'].tolist()                # as list or array\n",
    "emission_co2_list = emission['CO2'].tolist()                # as list or array"
   ]
  },
  {
   "cell_type": "code",
   "execution_count": 6,
   "metadata": {},
   "outputs": [
    {
     "data": {
      "text/plain": [
       "['US',\n",
       " 'China',\n",
       " 'European Union',\n",
       " 'Russian Federation',\n",
       " 'Brazil',\n",
       " 'India',\n",
       " 'Rest of World']"
      ]
     },
     "execution_count": 6,
     "metadata": {},
     "output_type": "execute_result"
    }
   ],
   "source": [
    "emission_countries_list"
   ]
  },
  {
   "cell_type": "code",
   "execution_count": 17,
   "metadata": {},
   "outputs": [],
   "source": [
    "# data for GHG & CO2 Emission\n",
    "# Method-1\n",
    "# data = [\n",
    "#     {\n",
    "#         \"values\": emission_ghg_list,\n",
    "#         \"labels\": emission_countries_list,\n",
    "#         \"domain\": {\"column\":0},\n",
    "#         \"name\": \"GHG Emissions\",\n",
    "#         \"hoverinfo\": \"label+percent+name\",\n",
    "#         \"hole\": 0.4,\n",
    "#         \"types\": \"pie\"\n",
    "#     },\n",
    "#     {\n",
    "#         \"values\": emission_co2_list,\n",
    "#         \"labels\": emission_countries_list,\n",
    "#         \"domain\": {\"column\":1},\n",
    "#         \"name\": \"CO2 Emissions\",\n",
    "#         \"hoverinfo\": \"label+percent+name\",\n",
    "#         \"hole\": 0.4,\n",
    "#         \"types\": \"pie\"\n",
    "#     }\n",
    "# ]\n",
    "\n",
    "# Method-2\n",
    "trace1 = Pie(values= emission_ghg_list,\n",
    "        labels= emission_countries_list,\n",
    "        domain= {\"column\":0},\n",
    "        name= \"GHG Emissions\",\n",
    "        hoverinfo= \"label+value+percent+name\",\n",
    "        hole= 0.4)\n",
    "trace2 = Pie(values= emission_co2_list,\n",
    "        labels= emission_countries_list,\n",
    "        domain= {\"column\":1},\n",
    "        name= \"CO2 Emissions\",\n",
    "        hoverinfo= \"label+value+percent+name\",\n",
    "        hole= 0.4)"
   ]
  },
  {
   "cell_type": "code",
   "execution_count": 18,
   "metadata": {},
   "outputs": [],
   "source": [
    "# Layout for both the pie charts in {row:1, col:2}\n",
    "layout_emission = {\n",
    "    \"title\": \"Global Emissions 1990-2011\",\n",
    "    \"grid\": {\"rows\": 1, \"columns\": 2},\n",
    "    \"annotations\": [\n",
    "        {\n",
    "            \"font\": {\"size\": 20},\n",
    "            \"showarrow\": False,\n",
    "            \"text\": \"GHG\",\n",
    "            \"x\": 0.20,\n",
    "            \"y\": 0.5\n",
    "        },\n",
    "        {\n",
    "            \"font\": {\"size\": 20},\n",
    "            \"showarrow\": False,\n",
    "            \"text\": \"CO2\",\n",
    "            \"x\": 0.8,\n",
    "            \"y\": 0.5\n",
    "        }\n",
    "    ]\n",
    "}\n"
   ]
  },
  {
   "cell_type": "code",
   "execution_count": 20,
   "metadata": {},
   "outputs": [
    {
     "data": {
      "text/plain": [
       "'file://F:\\\\Coding\\\\Github_repos\\\\My_Learning-Python\\\\libs\\\\Plotly\\\\temp-plot.html'"
      ]
     },
     "execution_count": 20,
     "metadata": {},
     "output_type": "execute_result"
    }
   ],
   "source": [
    "# Pie Chart Plot\n",
    "# Opens a plot (as html) in a separate Chrome tab.\n",
    "plotly.offline.plot({\n",
    "    \"data\":[trace1, trace2],\n",
    "    \"layout\": layout_emission\n",
    "})"
   ]
  },
  {
   "cell_type": "markdown",
   "metadata": {},
   "source": [
    "#### __Example 2__"
   ]
  },
  {
   "cell_type": "code",
   "execution_count": 10,
   "metadata": {},
   "outputs": [],
   "source": [
    "import pandas as pd\n",
    "import plotly\n",
    "from plotly.graph_objs import Layout, Pie"
   ]
  },
  {
   "cell_type": "markdown",
   "metadata": {},
   "source": [
    "__Problem Statement:__ <br/>\n",
    "* Draw a Pie Chart b/w Sections (DIFFUSION, DRY,....) and no. of wafers run. "
   ]
  },
  {
   "cell_type": "code",
   "execution_count": 12,
   "metadata": {},
   "outputs": [],
   "source": [
    "# Read data\n",
    "wafers = pd.read_csv('./data/wafers.csv')"
   ]
  },
  {
   "cell_type": "code",
   "execution_count": 13,
   "metadata": {},
   "outputs": [
    {
     "data": {
      "text/html": [
       "<div>\n",
       "<style scoped>\n",
       "    .dataframe tbody tr th:only-of-type {\n",
       "        vertical-align: middle;\n",
       "    }\n",
       "\n",
       "    .dataframe tbody tr th {\n",
       "        vertical-align: top;\n",
       "    }\n",
       "\n",
       "    .dataframe thead th {\n",
       "        text-align: right;\n",
       "    }\n",
       "</style>\n",
       "<table border=\"1\" class=\"dataframe\">\n",
       "  <thead>\n",
       "    <tr style=\"text-align: right;\">\n",
       "      <th></th>\n",
       "      <th>Section</th>\n",
       "      <th>A Shift</th>\n",
       "      <th>B Shift</th>\n",
       "      <th>C Shift</th>\n",
       "    </tr>\n",
       "  </thead>\n",
       "  <tbody>\n",
       "    <tr>\n",
       "      <th>0</th>\n",
       "      <td>DIFFUSION</td>\n",
       "      <td>8</td>\n",
       "      <td>27</td>\n",
       "      <td>0</td>\n",
       "    </tr>\n",
       "    <tr>\n",
       "      <th>1</th>\n",
       "      <td>DRY ETCH</td>\n",
       "      <td>52</td>\n",
       "      <td>129</td>\n",
       "      <td>24</td>\n",
       "    </tr>\n",
       "    <tr>\n",
       "      <th>2</th>\n",
       "      <td>LITHOGRAPHY</td>\n",
       "      <td>120</td>\n",
       "      <td>141</td>\n",
       "      <td>102</td>\n",
       "    </tr>\n",
       "    <tr>\n",
       "      <th>3</th>\n",
       "      <td>THIN FILM</td>\n",
       "      <td>51</td>\n",
       "      <td>187</td>\n",
       "      <td>0</td>\n",
       "    </tr>\n",
       "    <tr>\n",
       "      <th>4</th>\n",
       "      <td>WET ETCH</td>\n",
       "      <td>243</td>\n",
       "      <td>152</td>\n",
       "      <td>25</td>\n",
       "    </tr>\n",
       "    <tr>\n",
       "      <th>5</th>\n",
       "      <td>YIELD</td>\n",
       "      <td>59</td>\n",
       "      <td>17</td>\n",
       "      <td>0</td>\n",
       "    </tr>\n",
       "    <tr>\n",
       "      <th>6</th>\n",
       "      <td>CMP</td>\n",
       "      <td>131</td>\n",
       "      <td>159</td>\n",
       "      <td>62</td>\n",
       "    </tr>\n",
       "    <tr>\n",
       "      <th>7</th>\n",
       "      <td>IMPLANT</td>\n",
       "      <td>59</td>\n",
       "      <td>0</td>\n",
       "      <td>40</td>\n",
       "    </tr>\n",
       "  </tbody>\n",
       "</table>\n",
       "</div>"
      ],
      "text/plain": [
       "       Section  A Shift  B Shift  C Shift\n",
       "0    DIFFUSION        8       27        0\n",
       "1     DRY ETCH       52      129       24\n",
       "2  LITHOGRAPHY      120      141      102\n",
       "3    THIN FILM       51      187        0\n",
       "4   WET ETCH        243      152       25\n",
       "5        YIELD       59       17        0\n",
       "6          CMP      131      159       62\n",
       "7      IMPLANT       59        0       40"
      ]
     },
     "execution_count": 13,
     "metadata": {},
     "output_type": "execute_result"
    }
   ],
   "source": [
    "wafers"
   ]
  },
  {
   "cell_type": "code",
   "execution_count": 14,
   "metadata": {},
   "outputs": [],
   "source": [
    "labels_wafers = wafers['Section'].tolist()\n",
    "values_a = wafers['A Shift'].tolist()\n",
    "values_b = wafers['B Shift'].tolist()\n",
    "values_c = wafers['C Shift'].tolist()"
   ]
  },
  {
   "cell_type": "code",
   "execution_count": 15,
   "metadata": {},
   "outputs": [
    {
     "data": {
      "text/plain": [
       "['DIFFUSION',\n",
       " 'DRY ETCH',\n",
       " 'LITHOGRAPHY',\n",
       " 'THIN FILM',\n",
       " 'WET ETCH  ',\n",
       " 'YIELD',\n",
       " 'CMP',\n",
       " 'IMPLANT']"
      ]
     },
     "execution_count": 15,
     "metadata": {},
     "output_type": "execute_result"
    }
   ],
   "source": [
    "labels_wafers"
   ]
  },
  {
   "cell_type": "code",
   "execution_count": 16,
   "metadata": {},
   "outputs": [
    {
     "data": {
      "text/plain": [
       "[8, 52, 120, 51, 243, 59, 131, 59]"
      ]
     },
     "execution_count": 16,
     "metadata": {},
     "output_type": "execute_result"
    }
   ],
   "source": [
    "values_a"
   ]
  },
  {
   "cell_type": "code",
   "execution_count": 21,
   "metadata": {},
   "outputs": [],
   "source": [
    "trace1 = Pie(\n",
    "    values= values_a,\n",
    "    labels= labels_wafers,\n",
    "    domain= {\"column\":0},\n",
    "    name= \"A Shift\",\n",
    "    hoverinfo= \"label+value+percent+name\",\n",
    "    hole= 0.4\n",
    ")\n",
    "\n",
    "trace2 = Pie(\n",
    "    values= values_b,\n",
    "    labels= labels_wafers,\n",
    "    domain= {\"column\":1},\n",
    "    name= \"B Shift\",\n",
    "    hoverinfo= \"label+value+percent+name\",\n",
    "    hole= 0.4\n",
    ")\n",
    "\n",
    "trace3 = Pie(\n",
    "    values= values_c,\n",
    "    labels= labels_wafers,\n",
    "    domain= {\"column\":2},\n",
    "    name= \"C Shift\",\n",
    "    hoverinfo= \"label+value+percent+name\",\n",
    "    hole= 0.4\n",
    ")"
   ]
  },
  {
   "cell_type": "code",
   "execution_count": 27,
   "metadata": {},
   "outputs": [],
   "source": [
    "layout_wafers = {\n",
    "    \"title\": \"Total wafers run in A,B,C Shifts\",\n",
    "    \"grid\": {\"rows\": 1, \"columns\": 3},\n",
    "    \"annotations\": [\n",
    "        {\n",
    "            \"font\": {\"size\": 20},\n",
    "            \"showarrow\": False,\n",
    "            \"text\": \"A\",\n",
    "            \"x\": 0.15,\n",
    "            \"y\": 0.5\n",
    "        },\n",
    "        {\n",
    "            \"font\": {\"size\": 20},\n",
    "            \"showarrow\": False,\n",
    "            \"text\": \"B\",\n",
    "            \"x\": 0.5,\n",
    "            \"y\": 0.5\n",
    "        },\n",
    "        {\n",
    "            \"font\": {\"size\": 20},\n",
    "            \"showarrow\": False,\n",
    "            \"text\": \"C\",\n",
    "            \"x\": 0.85,\n",
    "            \"y\": 0.5\n",
    "        }\n",
    "    ]\n",
    "}\n"
   ]
  },
  {
   "cell_type": "code",
   "execution_count": 28,
   "metadata": {},
   "outputs": [
    {
     "data": {
      "text/plain": [
       "'file://F:\\\\Coding\\\\Github_repos\\\\My_Learning-Python\\\\libs\\\\Plotly\\\\temp-plot.html'"
      ]
     },
     "execution_count": 28,
     "metadata": {},
     "output_type": "execute_result"
    }
   ],
   "source": [
    "# Pie Chart Plot\n",
    "# Opens a plot (as html) in a separate Chrome tab.\n",
    "plotly.offline.plot({\n",
    "    \"data\":[trace1, trace2, trace3],\n",
    "    \"layout\": layout_wafers\n",
    "})"
   ]
  },
  {
   "cell_type": "code",
   "execution_count": null,
   "metadata": {},
   "outputs": [],
   "source": []
  }
 ],
 "metadata": {
  "kernelspec": {
   "display_name": "Python 3",
   "language": "python",
   "name": "python3"
  },
  "language_info": {
   "codemirror_mode": {
    "name": "ipython",
    "version": 3
   },
   "file_extension": ".py",
   "mimetype": "text/x-python",
   "name": "python",
   "nbconvert_exporter": "python",
   "pygments_lexer": "ipython3",
   "version": "3.7.1"
  }
 },
 "nbformat": 4,
 "nbformat_minor": 2
}
