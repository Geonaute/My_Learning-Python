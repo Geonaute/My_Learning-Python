{
 "cells": [
  {
   "cell_type": "markdown",
   "metadata": {},
   "source": [
    "# SpellChecker\n",
    "## Installation\n",
    "* Using pip: \n",
    "    - [`pip install pyspellchecker`](https://pypi.org/project/pyspellchecker/)"
   ]
  },
  {
   "cell_type": "code",
   "execution_count": 1,
   "metadata": {},
   "outputs": [],
   "source": [
    "from spellchecker import SpellChecker"
   ]
  },
  {
   "cell_type": "code",
   "execution_count": 2,
   "metadata": {},
   "outputs": [],
   "source": [
    "# definition\n",
    "spell = SpellChecker()"
   ]
  },
  {
   "cell_type": "markdown",
   "metadata": {},
   "source": [
    "### Input\n",
    "It can be \n",
    "- sentence or \n",
    "- a word"
   ]
  },
  {
   "cell_type": "code",
   "execution_count": 12,
   "metadata": {},
   "outputs": [
    {
     "name": "stdin",
     "output_type": "stream",
     "text": [
      "Enter a word or sentence:  abhijit is a good boy\n"
     ]
    },
    {
     "name": "stdout",
     "output_type": "stream",
     "text": [
      "--------------------------------\n",
      "The string entered is: \n",
      "'abhijit is a good boy'\n"
     ]
    }
   ],
   "source": [
    "str_input = input(\"Enter a word or sentence: \")\n",
    "print('--------------------------------')\n",
    "print(f'The string entered is: \\n\\'{str_input}\\'')"
   ]
  },
  {
   "cell_type": "code",
   "execution_count": 26,
   "metadata": {},
   "outputs": [
    {
     "name": "stdout",
     "output_type": "stream",
     "text": [
      "The correct word is: abhijit\n",
      "Probable words are: {'abhijit'}\n"
     ]
    }
   ],
   "source": [
    "list_input = str_input.split()\n",
    "# print(list_input)\n",
    "\n",
    "misspelled = spell.unknown(list_input)\n",
    "# print(type(misspelled)) # set\n",
    "\n",
    "if len(misspelled):  # misspelled has list of non-zero length\n",
    "    for word in misspelled:\n",
    "        # Get the one `most likely` answer\n",
    "        print(f'The correct word is: {spell.correction(word)}')\n",
    "\n",
    "        # Get a list of `likely` options\n",
    "        print(f'Probable words are: {spell.candidates(word)}')\n",
    "else:\n",
    "    print('Good! There is no misspelled word')"
   ]
  },
  {
   "cell_type": "code",
   "execution_count": null,
   "metadata": {},
   "outputs": [],
   "source": []
  }
 ],
 "metadata": {
  "kernelspec": {
   "display_name": "Python 3",
   "language": "python",
   "name": "python3"
  },
  "language_info": {
   "codemirror_mode": {
    "name": "ipython",
    "version": 3
   },
   "file_extension": ".py",
   "mimetype": "text/x-python",
   "name": "python",
   "nbconvert_exporter": "python",
   "pygments_lexer": "ipython3",
   "version": "3.7.1"
  }
 },
 "nbformat": 4,
 "nbformat_minor": 2
}
